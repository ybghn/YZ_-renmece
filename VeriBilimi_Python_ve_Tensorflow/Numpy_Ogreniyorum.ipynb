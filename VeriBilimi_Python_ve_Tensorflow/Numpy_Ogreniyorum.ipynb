{
 "cells": [
  {
   "cell_type": "code",
   "execution_count": 38,
   "metadata": {},
   "outputs": [],
   "source": [
    "import numpy as np"
   ]
  },
  {
   "cell_type": "code",
   "execution_count": 39,
   "metadata": {},
   "outputs": [
    {
     "name": "stdout",
     "output_type": "stream",
     "text": [
      "<class 'list'>\n"
     ]
    }
   ],
   "source": [
    "beninListem = [20,30,40]\n",
    "print(type(beninListem))"
   ]
  },
  {
   "cell_type": "code",
   "execution_count": 40,
   "metadata": {},
   "outputs": [
    {
     "name": "stdout",
     "output_type": "stream",
     "text": [
      "<class 'numpy.ndarray'>\n",
      "[20 30 40]\n"
     ]
    }
   ],
   "source": [
    "benimListemNumpy = np.array(beninListem)\n",
    "print(type(benimListemNumpy))\n",
    "print(benimListemNumpy)"
   ]
  },
  {
   "cell_type": "code",
   "execution_count": 41,
   "metadata": {},
   "outputs": [
    {
     "name": "stdout",
     "output_type": "stream",
     "text": [
      "[[10, 20, 30], [20, 30, 40], [40, 50, 60]]\n",
      "<class 'numpy.ndarray'>\n",
      "[[10 20 30]\n",
      " [20 30 40]\n",
      " [40 50 60]]\n"
     ]
    }
   ],
   "source": [
    "matrixListesi = [[10,20,30],[20,30,40],[40,50,60]]\n",
    "print(matrixListesi)\n",
    "\n",
    "matrixListesiNumpy = np.array(matrixListesi)\n",
    "print(type(matrixListesiNumpy))\n",
    "print(matrixListesiNumpy)"
   ]
  },
  {
   "cell_type": "code",
   "execution_count": 42,
   "metadata": {},
   "outputs": [
    {
     "name": "stdout",
     "output_type": "stream",
     "text": [
      "[10, 20, 30]\n"
     ]
    },
    {
     "data": {
      "text/plain": [
       "array([[10, 20, 30],\n",
       "       [20, 30, 40],\n",
       "       [40, 50, 60]])"
      ]
     },
     "execution_count": 42,
     "metadata": {},
     "output_type": "execute_result"
    }
   ],
   "source": [
    "print(matrixListesi[0])\n",
    "np.array(matrixListesi)"
   ]
  },
  {
   "cell_type": "markdown",
   "metadata": {},
   "source": [
    "Np.Arrange : \n"
   ]
  },
  {
   "cell_type": "code",
   "execution_count": 43,
   "metadata": {},
   "outputs": [
    {
     "data": {
      "text/plain": [
       "array([0, 1, 2, 3, 4, 5, 6, 7, 8, 9])"
      ]
     },
     "execution_count": 43,
     "metadata": {},
     "output_type": "execute_result"
    }
   ],
   "source": [
    "np.arange(0,10)"
   ]
  },
  {
   "cell_type": "code",
   "execution_count": 44,
   "metadata": {},
   "outputs": [
    {
     "data": {
      "text/plain": [
       "array([0, 2, 4, 6, 8])"
      ]
     },
     "execution_count": 44,
     "metadata": {},
     "output_type": "execute_result"
    }
   ],
   "source": [
    "np.arange(0,10,2) #0 = begin number, 10=end number,  2=step number"
   ]
  },
  {
   "cell_type": "code",
   "execution_count": 45,
   "metadata": {},
   "outputs": [
    {
     "data": {
      "text/plain": [
       "array([[0., 0., 0., 0., 0.],\n",
       "       [0., 0., 0., 0., 0.],\n",
       "       [0., 0., 0., 0., 0.],\n",
       "       [0., 0., 0., 0., 0.],\n",
       "       [0., 0., 0., 0., 0.]])"
      ]
     },
     "execution_count": 45,
     "metadata": {},
     "output_type": "execute_result"
    }
   ],
   "source": [
    "np.zeros((5,5))"
   ]
  },
  {
   "cell_type": "code",
   "execution_count": 46,
   "metadata": {},
   "outputs": [
    {
     "data": {
      "text/plain": [
       "array([[1, 1, 1, 1],\n",
       "       [1, 1, 1, 1],\n",
       "       [1, 1, 1, 1],\n",
       "       [1, 1, 1, 1]])"
      ]
     },
     "execution_count": 46,
     "metadata": {},
     "output_type": "execute_result"
    }
   ],
   "source": [
    "np.ones((4,4),dtype= int)"
   ]
  },
  {
   "cell_type": "code",
   "execution_count": 47,
   "metadata": {},
   "outputs": [
    {
     "data": {
      "text/plain": [
       "array([  0. ,  12.5,  25. ,  37.5,  50. ,  62.5,  75. ,  87.5, 100. ])"
      ]
     },
     "execution_count": 47,
     "metadata": {},
     "output_type": "execute_result"
    }
   ],
   "source": [
    "np.linspace(0,100,9) # 0 ile yüz arasında 5 tane eşit mesafede liste oluştur"
   ]
  },
  {
   "cell_type": "code",
   "execution_count": 48,
   "metadata": {},
   "outputs": [
    {
     "data": {
      "text/plain": [
       "array([ 0.        , 11.11111111, 22.22222222, 33.33333333, 44.44444444,\n",
       "       55.55555556, 66.66666667, 77.77777778, 88.88888889])"
      ]
     },
     "execution_count": 48,
     "metadata": {},
     "output_type": "execute_result"
    }
   ],
   "source": [
    "np.linspace(0,100,9,endpoint=False)"
   ]
  },
  {
   "cell_type": "code",
   "execution_count": 49,
   "metadata": {},
   "outputs": [
    {
     "data": {
      "text/plain": [
       "array([[1., 0., 0., 0., 0.],\n",
       "       [0., 1., 0., 0., 0.],\n",
       "       [0., 0., 1., 0., 0.],\n",
       "       [0., 0., 0., 1., 0.],\n",
       "       [0., 0., 0., 0., 1.]])"
      ]
     },
     "execution_count": 49,
     "metadata": {},
     "output_type": "execute_result"
    }
   ],
   "source": [
    "np.eye(5) # identity matrix oluşturur"
   ]
  },
  {
   "cell_type": "code",
   "execution_count": 50,
   "metadata": {},
   "outputs": [
    {
     "data": {
      "text/plain": [
       "array([[-0.05433944, -1.61512865, -1.3063505 ],\n",
       "       [-0.49514597, -0.03496166, -0.3501773 ],\n",
       "       [-1.14472848,  0.56824686,  1.03027296]])"
      ]
     },
     "execution_count": 50,
     "metadata": {},
     "output_type": "execute_result"
    }
   ],
   "source": [
    "np.random.randn(10) # 10 adet elamana ait rasgele dizi üretir\n",
    "np.random.randn(3,3) # 3,3 lük bir rastgele matrix oluşturur "
   ]
  },
  {
   "cell_type": "code",
   "execution_count": 51,
   "metadata": {},
   "outputs": [
    {
     "data": {
      "text/plain": [
       "array([[[110, 189,  19, ..., 146,  43, 178],\n",
       "        [ 14,  97,  91, ..., 140, 225, 141],\n",
       "        [112,  92, 228, ..., 123, 120,  91],\n",
       "        ...,\n",
       "        [155,  91,  11, ..., 128, 223, 136],\n",
       "        [ 91,  29, 185, ..., 159,  94, 225],\n",
       "        [  0, 207,  61, ..., 248, 100, 247]],\n",
       "\n",
       "       [[249, 119, 144, ..., 230,  23, 248],\n",
       "        [ 35, 106,  11, ...,  22,  22, 225],\n",
       "        [216,  83,  51, ...,  11, 224,  67],\n",
       "        ...,\n",
       "        [113, 204,  13, ..., 200,  24,  45],\n",
       "        [115, 169, 119, ...,  54,  79, 204],\n",
       "        [ 81, 149, 115, ..., 229, 213,  59]],\n",
       "\n",
       "       [[175, 200, 247, ..., 229, 175,  57],\n",
       "        [ 81, 157,  96, ..., 174,  68, 246],\n",
       "        [119, 217, 163, ..., 190, 199,  98],\n",
       "        ...,\n",
       "        [244,  25,  41, ..., 114, 141, 154],\n",
       "        [187, 185,  65, ...,  68, 212,  10],\n",
       "        [178, 245,  55, ...,  54, 237,  56]]])"
      ]
     },
     "execution_count": 51,
     "metadata": {},
     "output_type": "execute_result"
    }
   ],
   "source": [
    "npResim = np.random.randint(0,256,(3,256,256))\n",
    "npResim\n",
    "# np.save(npResim,)"
   ]
  },
  {
   "cell_type": "markdown",
   "metadata": {},
   "source": [
    "#Fonksiyonlar"
   ]
  },
  {
   "cell_type": "code",
   "execution_count": 52,
   "metadata": {},
   "outputs": [
    {
     "data": {
      "text/plain": [
       "array([ 0.01308175, -0.23108821,  1.0885176 , -0.13164782, -0.12787967,\n",
       "        0.43057832,  0.47932117,  0.16642368, -0.43175773,  0.24605071,\n",
       "       -1.05523189, -0.9148219 ,  1.79603315, -0.25996519, -0.2216804 ,\n",
       "       -1.00568549, -0.39164677,  0.35783569,  0.63310187, -0.25448666,\n",
       "        0.11920595, -0.13552913, -1.40443383, -0.08797016,  0.18256453,\n",
       "       -0.88976041,  0.89681774,  0.42718291, -2.28667327,  0.16636033])"
      ]
     },
     "execution_count": 52,
     "metadata": {},
     "output_type": "execute_result"
    }
   ],
   "source": [
    "benimNumpyDizi = np.random.randn(30)\n",
    "benimNumpyDizi"
   ]
  },
  {
   "cell_type": "code",
   "execution_count": 53,
   "metadata": {},
   "outputs": [
    {
     "data": {
      "text/plain": [
       "array([[ 0.01308175, -0.23108821,  1.0885176 , -0.13164782, -0.12787967,\n",
       "         0.43057832],\n",
       "       [ 0.47932117,  0.16642368, -0.43175773,  0.24605071, -1.05523189,\n",
       "        -0.9148219 ],\n",
       "       [ 1.79603315, -0.25996519, -0.2216804 , -1.00568549, -0.39164677,\n",
       "         0.35783569],\n",
       "       [ 0.63310187, -0.25448666,  0.11920595, -0.13552913, -1.40443383,\n",
       "        -0.08797016],\n",
       "       [ 0.18256453, -0.88976041,  0.89681774,  0.42718291, -2.28667327,\n",
       "         0.16636033]])"
      ]
     },
     "execution_count": 53,
     "metadata": {},
     "output_type": "execute_result"
    }
   ],
   "source": [
    "benimNumpyDizi =benimNumpyDizi.reshape(5,6)\n",
    "benimNumpyDizi"
   ]
  },
  {
   "cell_type": "code",
   "execution_count": 54,
   "metadata": {},
   "outputs": [
    {
     "name": "stdout",
     "output_type": "stream",
     "text": [
      "Max Number1.7960331526022877\n"
     ]
    },
    {
     "data": {
      "text/plain": [
       "12"
      ]
     },
     "execution_count": 54,
     "metadata": {},
     "output_type": "execute_result"
    }
   ],
   "source": [
    "print(\"Max Number\" + str(benimNumpyDizi.max()))\n",
    "benimNumpyDizi.argmax() #index of max element"
   ]
  },
  {
   "cell_type": "code",
   "execution_count": 55,
   "metadata": {},
   "outputs": [
    {
     "data": {
      "text/plain": [
       "(5, 6)"
      ]
     },
     "execution_count": 55,
     "metadata": {},
     "output_type": "execute_result"
    }
   ],
   "source": [
    "benimNumpyDizi.shape\n"
   ]
  },
  {
   "cell_type": "code",
   "execution_count": 56,
   "metadata": {},
   "outputs": [
    {
     "data": {
      "text/plain": [
       "array([ 5,  6,  7,  8,  9, 10, 11, 12, 13, 14, 15, 16, 17, 18, 19, 20, 21,\n",
       "       22, 23, 24])"
      ]
     },
     "execution_count": 56,
     "metadata": {},
     "output_type": "execute_result"
    }
   ],
   "source": [
    "liste = np.arange(5,25)\n",
    "liste"
   ]
  },
  {
   "cell_type": "code",
   "execution_count": 57,
   "metadata": {},
   "outputs": [
    {
     "name": "stdout",
     "output_type": "stream",
     "text": [
      "10\n"
     ]
    },
    {
     "data": {
      "text/plain": [
       "array([  5,   6,   7,   8,   9, -99, -99, -99, -99, -99,  15,  16,  17,\n",
       "        18,  19,  20,  21,  22,  23,  24])"
      ]
     },
     "execution_count": 57,
     "metadata": {},
     "output_type": "execute_result"
    }
   ],
   "source": [
    "print(liste[5])\n",
    "liste[5:10] = -99 #Silicing operation, 10. eleman değil, 9 da son buluyor\n",
    "liste\n"
   ]
  },
  {
   "cell_type": "code",
   "execution_count": 58,
   "metadata": {},
   "outputs": [
    {
     "data": {
      "text/plain": [
       "array([-99, -99, -99, -99, -99, -99, -99])"
      ]
     },
     "execution_count": 58,
     "metadata": {},
     "output_type": "execute_result"
    }
   ],
   "source": [
    "silicingListe = liste[2:9]\n",
    "silicingListe[:] = -99\n",
    "silicingListe"
   ]
  },
  {
   "cell_type": "code",
   "execution_count": 59,
   "metadata": {},
   "outputs": [
    {
     "data": {
      "text/plain": [
       "array([-5, -5, -5, -5, -5, -5, -5])"
      ]
     },
     "execution_count": 59,
     "metadata": {},
     "output_type": "execute_result"
    }
   ],
   "source": [
    "liste # Listenin içi değimemiş olmamalıydı sanki ?\n",
    "silicingListe = liste[2:9].copy()\n",
    "silicingListe[:] = -5\n",
    "silicingListe"
   ]
  },
  {
   "cell_type": "code",
   "execution_count": 60,
   "metadata": {},
   "outputs": [
    {
     "data": {
      "text/plain": [
       "array([  5,   6, -99, -99, -99, -99, -99, -99, -99, -99,  15,  16,  17,\n",
       "        18,  19,  20,  21,  22,  23,  24])"
      ]
     },
     "execution_count": 60,
     "metadata": {},
     "output_type": "execute_result"
    }
   ],
   "source": [
    "liste"
   ]
  },
  {
   "cell_type": "markdown",
   "metadata": {},
   "source": [
    "Matrix Indexler"
   ]
  },
  {
   "cell_type": "code",
   "execution_count": 61,
   "metadata": {},
   "outputs": [
    {
     "name": "stdout",
     "output_type": "stream",
     "text": [
      "[[2 5 6]\n",
      " [8 6 8]\n",
      " [8 3 1]]\n",
      "2,1 Elamanı : 3\n"
     ]
    }
   ],
   "source": [
    "ornekMatrix = [[2,5,6],[8,6,8],[8,3,1]]\n",
    "ornekMatrix = np.array(ornekMatrix)\n",
    "print(ornekMatrix)\n",
    "print(\"2,1 Elamanı : \" + str(ornekMatrix[2,1]))"
   ]
  },
  {
   "cell_type": "code",
   "execution_count": 62,
   "metadata": {},
   "outputs": [
    {
     "name": "stdout",
     "output_type": "stream",
     "text": [
      "[[8 6 8]\n",
      " [8 3 1]]\n",
      "[8 1]\n"
     ]
    }
   ],
   "source": [
    "print(ornekMatrix[1:])\n",
    "print(ornekMatrix[1:,2])\n"
   ]
  },
  {
   "cell_type": "code",
   "execution_count": 63,
   "metadata": {},
   "outputs": [
    {
     "data": {
      "text/plain": [
       "array([[20, 16, 29,  1,  4, 20],\n",
       "       [12, 24,  7, 23, 13, 11],\n",
       "       [ 0,  4, 18,  7,  6, 26],\n",
       "       [20, 28,  1, 14, 16, 23],\n",
       "       [14,  0,  3, 25, 21, 22]])"
      ]
     },
     "execution_count": 63,
     "metadata": {},
     "output_type": "execute_result"
    }
   ],
   "source": [
    "yeniListe = np.random.randint(0,30,30)\n",
    "yeniListe = yeniListe.reshape(5,6)\n",
    "yeniListe"
   ]
  },
  {
   "cell_type": "code",
   "execution_count": 64,
   "metadata": {},
   "outputs": [
    {
     "data": {
      "text/plain": [
       "array([[ 0,  4, 18,  7,  6, 26],\n",
       "       [14,  0,  3, 25, 21, 22],\n",
       "       [20, 16, 29,  1,  4, 20]])"
      ]
     },
     "execution_count": 64,
     "metadata": {},
     "output_type": "execute_result"
    }
   ],
   "source": [
    "yeniListe[[2,4,0]]"
   ]
  },
  {
   "cell_type": "code",
   "execution_count": 67,
   "metadata": {},
   "outputs": [],
   "source": [
    "filtrelenmis =yeniListe > 20"
   ]
  },
  {
   "cell_type": "code",
   "execution_count": 68,
   "metadata": {},
   "outputs": [
    {
     "data": {
      "text/plain": [
       "array([29, 24, 23, 26, 28, 23, 25, 21, 22])"
      ]
     },
     "execution_count": 68,
     "metadata": {},
     "output_type": "execute_result"
    }
   ],
   "source": [
    "yeniListe[filtrelenmis]\n",
    "# yeniListe[yeniListe>20]"
   ]
  },
  {
   "cell_type": "code",
   "execution_count": 75,
   "metadata": {},
   "outputs": [
    {
     "data": {
      "text/plain": [
       "array([[400, 256, 841,   1,  16, 400],\n",
       "       [144, 576,  49, 529, 169, 121],\n",
       "       [  0,  16, 324,  49,  36, 676],\n",
       "       [400, 784,   1, 196, 256, 529],\n",
       "       [196,   0,   9, 625, 441, 484]])"
      ]
     },
     "execution_count": 75,
     "metadata": {},
     "output_type": "execute_result"
    }
   ],
   "source": [
    "powererListe =yeniListe*yeniListe\n",
    "powererListe"
   ]
  },
  {
   "cell_type": "code",
   "execution_count": 76,
   "metadata": {},
   "outputs": [
    {
     "data": {
      "text/plain": [
       "array([[ True,  True,  True,  True,  True,  True],\n",
       "       [ True,  True,  True,  True,  True,  True],\n",
       "       [ True,  True,  True,  True,  True,  True],\n",
       "       [ True,  True,  True,  True,  True,  True],\n",
       "       [ True,  True,  True,  True,  True,  True]])"
      ]
     },
     "execution_count": 76,
     "metadata": {},
     "output_type": "execute_result"
    }
   ],
   "source": [
    "np.sqrt(powererListe) == yeniListe"
   ]
  }
 ],
 "metadata": {
  "kernelspec": {
   "display_name": "Python 3",
   "language": "python",
   "name": "python3"
  },
  "language_info": {
   "codemirror_mode": {
    "name": "ipython",
    "version": 3
   },
   "file_extension": ".py",
   "mimetype": "text/x-python",
   "name": "python",
   "nbconvert_exporter": "python",
   "pygments_lexer": "ipython3",
   "version": "3.11.4"
  }
 },
 "nbformat": 4,
 "nbformat_minor": 2
}
